{
 "cells": [
  {
   "cell_type": "markdown",
   "metadata": {},
   "source": [
    "### Как относятся друг к другу множество и последовательность?"
   ]
  },
  {
   "cell_type": "markdown",
   "metadata": {},
   "source": [
    "Последовательсноть - частный случай множества, при котором каждый субъект множества сопоставлен с натуральным числом, являющимся его порядковым номером в множестве и для каждого элемента множества, кроме первого и последнего можно определить предыдущий и последующий элементы."
   ]
  },
  {
   "cell_type": "markdown",
   "metadata": {},
   "source": [
    "### Прочитать высказывания математической логики, построить их отрицания и *установить истинность."
   ]
  },
  {
   "cell_type": "markdown",
   "metadata": {},
   "source": [
    "$\\forall y \\in [0;1]: sgn(y)=1$\n",
    "\n",
    "* Для каждого y в множестве от 0 до 1 включительно верно, что sgn(y)=1\n",
    "* неверно, так как $sgn(0)=0$\n",
    "* Отрицание: $\\exists y \\in [0;1]: sgn(y)!=1$"
   ]
  },
  {
   "cell_type": "markdown",
   "metadata": {},
   "source": [
    "$\\forall x \\in \\mathbb R \\exists X \\in \\mathbb R : X > x$\n",
    "* Для каждого x в множестве вещественных чисел существует X принадлежащее этому множеству такое что X > x\n",
    "* Отрицание: $\\exists x \\in \\mathbb R \\forall X \\in \\mathbb R : X < x$\n"
   ]
  },
  {
   "cell_type": "markdown",
   "metadata": {},
   "source": [
    "$\\forall n \\in \\mathbb N > 2 : \\exists x,y,z \\in \\mathbb N : x^n = y^n + z^n$\n",
    "* для каждого натурального n, большего двух, сущесвуют такие натуральные x,y и x, что  $x^n = y^n + z^n$\n",
    "* $\\exists n \\in \\mathbb N \\leqslant 2: \\forall x,y,z \\in \\mathbb N: x^n != y^n + z^n$"
   ]
  },
  {
   "cell_type": "markdown",
   "metadata": {},
   "source": [
    "$\\forall x \\in \\mathbb C \\nexists y \\in \\mathbb C : x > y || x < y$\n",
    "* Для каждого комплексного числа x не существует такого комплексного числа y, которое было бы больше либо меньше x\n",
    "* Верно, так как комплексные числа нельзя сравнивать на больше/меньше\n",
    "* $\\exists x \\in \\mathbb C \\exists y \\in \\mathbb C : x \\leqslant y \\wedge x \\geqslant y$"
   ]
  },
  {
   "cell_type": "markdown",
   "metadata": {},
   "source": [
    "$\\forall y \\in [0;\\dfrac{\\pi}{2}] \\exists \\epsilon > 0 : sin ( y ) < sin ( y + \\epsilon ) $\n",
    "* для каждого y в множестве от 0 до $\\dfrac{\\pi}{2}$ включительно сущесвует $\\epsilon$ больше нуля такой, что $sin ( y ) < sin ( y + \\epsilon )$\n",
    "* $\\exists y in [0;\\dfrac{\\pi}{2}] \\forall \\epsilon \\leqslant 0 :  sin ( y ) \\geqslant sin ( y + \\epsilon ) $"
   ]
  },
  {
   "cell_type": "markdown",
   "metadata": {},
   "source": [
    "$\\forall y \\in [0;\\dfrac{\\pi}{2}) \\exists \\epsilon > 0 : cos ( y ) > cos ( y + \\epsilon ) $\n",
    "* для каждого y от 0 до $\\dfrac{\\pi}{2}$ исключительно существует  $\\epsilon$ больше нуля такой, что $cos ( y ) > cos ( y + \\epsilon )$\n",
    "* $\\exists y \\in [0;\\dfrac{\\pi}{2}) \\forall \\epsilon \\leqslant 0 : cos ( y ) \\leqslant cos ( y + \\epsilon ) $"
   ]
  },
  {
   "cell_type": "markdown",
   "metadata": {},
   "source": [
    "$\\exists x: x \\notin \\{\\mathbb N, \\mathbb Z, \\mathbb Q, \\mathbb R, \\mathbb C\\}$\n",
    "* сущесвует x, которое не принадлежит ни к одному из перечисленных множесвт\n",
    "* $\\forall x: x \\in \\{\\mathbb N, \\mathbb Z, \\mathbb Q, \\mathbb R, \\mathbb C\\}$"
   ]
  },
  {
   "cell_type": "markdown",
   "metadata": {},
   "source": [
    "### Задание 4  \n",
    "\n",
    "$a_{1} = 128, a_{n+1} - a_{n} = 6$\n",
    "\n",
    "найти 12-й член заданной неявно последовательности  \n",
    "\n",
    "128 + 6*11= 194"
   ]
  },
  {
   "cell_type": "code",
   "execution_count": null,
   "metadata": {},
   "outputs": [],
   "source": []
  }
 ],
 "metadata": {
  "kernelspec": {
   "display_name": "Python 3",
   "language": "python",
   "name": "python3"
  },
  "language_info": {
   "codemirror_mode": {
    "name": "ipython",
    "version": 3
   },
   "file_extension": ".py",
   "mimetype": "text/x-python",
   "name": "python",
   "nbconvert_exporter": "python",
   "pygments_lexer": "ipython3",
   "version": "3.7.1"
  }
 },
 "nbformat": 4,
 "nbformat_minor": 2
}
