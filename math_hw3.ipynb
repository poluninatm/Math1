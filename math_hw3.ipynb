{
 "cells": [
  {
   "cell_type": "code",
   "execution_count": 49,
   "metadata": {},
   "outputs": [],
   "source": [
    "import numpy as np"
   ]
  },
  {
   "cell_type": "markdown",
   "metadata": {},
   "source": [
    "# Практическое задание №5\n",
    "\n",
    "### 5.1 Вычислите, по возможности не используя программирование: (5Е)–1, где Е – единичная матрица размера 5х5.\n"
   ]
  },
  {
   "cell_type": "code",
   "execution_count": 50,
   "metadata": {},
   "outputs": [
    {
     "name": "stdout",
     "output_type": "stream",
     "text": [
      "[[5 0 0 0 0]\n",
      " [0 5 0 0 0]\n",
      " [0 0 5 0 0]\n",
      " [0 0 0 5 0]\n",
      " [0 0 0 0 5]]\n",
      "[[1 0 0 0 0]\n",
      " [0 1 0 0 0]\n",
      " [0 0 1 0 0]\n",
      " [0 0 0 1 0]\n",
      " [0 0 0 0 1]]\n"
     ]
    }
   ],
   "source": [
    "E = np.array([[1, 0, 0, 0, 0], [0, 1, 0, 0, 0], [0, 0, 1, 0, 0], [0, 0, 0, 1, 0], [0, 0, 0, 0, 1]])\n",
    "A=5*E\n",
    "A1=E\n",
    "print(A)\n",
    "print(A1)"
   ]
  },
  {
   "cell_type": "code",
   "execution_count": 51,
   "metadata": {},
   "outputs": [
    {
     "name": "stdout",
     "output_type": "stream",
     "text": [
      "[[1. 0. 0. 0. 0.]\n",
      " [0. 1. 0. 0. 0.]\n",
      " [0. 0. 1. 0. 0.]\n",
      " [0. 0. 0. 1. 0.]\n",
      " [0. 0. 0. 0. 1.]]\n",
      "[[0.2 0.  0.  0.  0. ]\n",
      " [0.  0.2 0.  0.  0. ]\n",
      " [0.  0.  0.2 0.  0. ]\n",
      " [0.  0.  0.  0.2 0. ]\n",
      " [0.  0.  0.  0.  0.2]]\n"
     ]
    }
   ],
   "source": [
    "A_tmp=A\n",
    "A_tmp=A_tmp/5\n",
    "A1=A1/5\n",
    "print(A_tmp)\n",
    "print(A1)"
   ]
  },
  {
   "cell_type": "code",
   "execution_count": 52,
   "metadata": {},
   "outputs": [
    {
     "data": {
      "text/plain": [
       "array([[1., 0., 0., 0., 0.],\n",
       "       [0., 1., 0., 0., 0.],\n",
       "       [0., 0., 1., 0., 0.],\n",
       "       [0., 0., 0., 1., 0.],\n",
       "       [0., 0., 0., 0., 1.]])"
      ]
     },
     "execution_count": 52,
     "metadata": {},
     "output_type": "execute_result"
    }
   ],
   "source": [
    "# Проверка\n",
    "np.dot(A, A1)"
   ]
  },
  {
   "cell_type": "markdown",
   "metadata": {},
   "source": [
    "### 5.2. Вычислите определитель:\n"
   ]
  },
  {
   "cell_type": "code",
   "execution_count": 53,
   "metadata": {},
   "outputs": [
    {
     "data": {
      "text/plain": [
       "array([[1, 2, 3],\n",
       "       [4, 0, 6],\n",
       "       [7, 8, 9]])"
      ]
     },
     "execution_count": 53,
     "metadata": {},
     "output_type": "execute_result"
    }
   ],
   "source": [
    "A_f = np.array([[1, 2, 3], [4, 0, 6], [7, 8, 9]])\n",
    "A = np.array([[1, 2, 3], [4, 0, 6], [7, 8, 9]])\n",
    "A"
   ]
  },
  {
   "cell_type": "code",
   "execution_count": 54,
   "metadata": {},
   "outputs": [
    {
     "name": "stdout",
     "output_type": "stream",
     "text": [
      "[[-3 10  4]\n",
      " [ 0  0  2]\n",
      " [ 3  0  0]]\n",
      "[[-3  0  0]\n",
      " [ 0 -5  0]\n",
      " [ 4  2  4]]\n"
     ]
    }
   ],
   "source": [
    "## Упростим матрицу\n",
    "A[2]=A[0]*-3 + A[2]\n",
    "A[0]=A[2]*-1 + A[0]\n",
    "A[1]=A[0]*-2 + A[1]\n",
    "A=A.T\n",
    "print(A)\n",
    "A[2]=A[0] + A[2]\n",
    "A=A.T\n",
    "A[1]=A[2]*-2.5 + A[1]\n",
    "print(A)"
   ]
  },
  {
   "cell_type": "code",
   "execution_count": 55,
   "metadata": {},
   "outputs": [
    {
     "data": {
      "text/plain": [
       "60"
      ]
     },
     "execution_count": 55,
     "metadata": {},
     "output_type": "execute_result"
    }
   ],
   "source": [
    "#Получилась треугольная матрица, значит:\n",
    "D=A[0][0]*A[1][1]*A[2][2]\n",
    "D"
   ]
  },
  {
   "cell_type": "markdown",
   "metadata": {},
   "source": [
    "### 5.3.\n",
    "####    1. Вычислите матрицу, обратную данной:\n"
   ]
  },
  {
   "cell_type": "code",
   "execution_count": 56,
   "metadata": {},
   "outputs": [
    {
     "name": "stdout",
     "output_type": "stream",
     "text": [
      "[[ 1.          0.          0.         -0.8         0.1         0.2       ]\n",
      " [ 0.          1.          0.          0.1        -0.2         0.1       ]\n",
      " [-0.         -0.          1.          0.53333333  0.1        -0.13333333]]\n",
      "\n",
      "[[-0.8         0.1         0.2       ]\n",
      " [ 0.1        -0.2         0.1       ]\n",
      " [ 0.53333333  0.1        -0.13333333]]\n",
      "\n",
      "[[ 1. -0.  0.]\n",
      " [-0.  1.  0.]\n",
      " [-0. -0.  1.]]\n"
     ]
    }
   ],
   "source": [
    "A = np.array([[1, 2, 3], [4, 0, 6], [7, 8, 9]])\n",
    "A_tmp = np.array([[1, 2, 3], [4, 0, 6], [7, 8, 9]])\n",
    "E = np.array([[1., 0., 0.], [0., 1., 0.], [0., 0., 1.]])\n",
    "\n",
    "tmp=np.concatenate((A, E), axis=1)\n",
    "        \n",
    "\n",
    "tmp[1]=tmp[1] + tmp[0]*-4\n",
    "tmp[2]=tmp[2] + tmp[0]*-7\n",
    "tmp[1]=tmp[1]*-1/8\n",
    "tmp[2]=tmp[2] + tmp[1]*6\n",
    "tmp[2]=tmp[2]*-1/7.5\n",
    "tmp[0]=tmp[0] + tmp[1]*-2\n",
    "tmp[0]=tmp[0] + tmp[2]*-1.5\n",
    "tmp[1]=tmp[1] + tmp[2]*-0.75\n",
    "\n",
    "print(tmp)\n",
    "\n",
    "E=tmp[:,[3,4,5]]\n",
    "print(\"\")\n",
    "print(E)\n",
    "print(\"\")\n",
    "print(np.dot(A,E).round(3))\n",
    "\n",
    "A_1=E"
   ]
  },
  {
   "cell_type": "markdown",
   "metadata": {},
   "source": [
    "#### 2. Приведите пример матрицы 4х4, ранг которой равен 1"
   ]
  },
  {
   "cell_type": "code",
   "execution_count": 57,
   "metadata": {},
   "outputs": [
    {
     "data": {
      "text/plain": [
       "array([[1, 0, 0, 0],\n",
       "       [0, 0, 0, 0],\n",
       "       [0, 0, 0, 0],\n",
       "       [0, 0, 0, 0]])"
      ]
     },
     "execution_count": 57,
     "metadata": {},
     "output_type": "execute_result"
    }
   ],
   "source": [
    "E = np.array([[1, 0, 0, 0], [0, 0, 0, 0], [0, 0, 0, 0], [0, 0, 0, 0]])\n",
    "E"
   ]
  },
  {
   "cell_type": "markdown",
   "metadata": {},
   "source": [
    "### 5.4. Вычислите скалярное произведение двух векторов:\n",
    "(1, 5)  и  (2, 8)"
   ]
  },
  {
   "cell_type": "code",
   "execution_count": 58,
   "metadata": {},
   "outputs": [
    {
     "data": {
      "text/plain": [
       "42"
      ]
     },
     "execution_count": 58,
     "metadata": {},
     "output_type": "execute_result"
    }
   ],
   "source": [
    "l=1*2+5*8\n",
    "l"
   ]
  },
  {
   "cell_type": "markdown",
   "metadata": {},
   "source": [
    "### 5.5 Вычислите смешанное произведение трех векторов:\n",
    "(1, 5, 0), (2, 8, 7) и (7, 1.5, 3) \n"
   ]
  },
  {
   "cell_type": "code",
   "execution_count": 59,
   "metadata": {},
   "outputs": [
    {
     "data": {
      "text/plain": [
       "74.0"
      ]
     },
     "execution_count": 59,
     "metadata": {},
     "output_type": "execute_result"
    }
   ],
   "source": [
    "v1 = np.array([1,5,0]) * np.array([2,8,7])\n",
    "V = 2*7 + 40*1.5 + 0*3\n",
    "V"
   ]
  },
  {
   "cell_type": "markdown",
   "metadata": {},
   "source": [
    "## Практическое задание №6"
   ]
  },
  {
   "cell_type": "markdown",
   "metadata": {},
   "source": [
    "### 1 Решите линейную систему:\n",
    "[[1, 2, 3],\n",
    " [4, 0, 6], \n",
    " [7, 8, 9]] * X = [12, 2, 1]\n"
   ]
  },
  {
   "cell_type": "code",
   "execution_count": 60,
   "metadata": {},
   "outputs": [
    {
     "data": {
      "text/plain": [
       "array([[-9.2       ],\n",
       "       [ 0.9       ],\n",
       "       [ 6.46666667]])"
      ]
     },
     "execution_count": 60,
     "metadata": {},
     "output_type": "execute_result"
    }
   ],
   "source": [
    "np.dot(A_1, np.array([[12], [2], [1]]))"
   ]
  },
  {
   "cell_type": "markdown",
   "metadata": {},
   "source": [
    "### 2. Найдите псевдорешение:\n",
    "x + 2y – z = 1\n",
    "\n",
    "3x – 4y = 7\n",
    "\n",
    "8x – 5y + 2z = 12\n",
    "\n",
    "2x – 5z = 7\n",
    "\n",
    "11x +4y – 7z = 15\n"
   ]
  },
  {
   "cell_type": "code",
   "execution_count": 61,
   "metadata": {},
   "outputs": [
    {
     "data": {
      "text/plain": [
       "<matplotlib.legend.Legend at 0x119372f60>"
      ]
     },
     "execution_count": 61,
     "metadata": {},
     "output_type": "execute_result"
    },
    {
     "data": {
      "image/png": "[encoded data removed]",
      "text/plain": [
       "<Figure size 432x288 with 1 Axes>"
      ]
     },
     "metadata": {
      "needs_background": "light"
     },
     "output_type": "display_data"
    }
   ],
   "source": [
    "%matplotlib inline\n",
    "\n",
    "from pylab import *\n",
    "from mpl_toolkits.mplot3d import Axes3D\n",
    "\n",
    "\n",
    "x=np.linspace(-1, 2, 200)\n",
    "y=np.linspace(-1, 2, 200)\n",
    "\n",
    "fig = figure()\n",
    "ax = Axes3D(fig)\n",
    "\n",
    "\n",
    "z1=-1-x-2*y\n",
    "z2=12/2+5/2*y-4*x\n",
    "z3=-15/7+11/7*x+4/7*y\n",
    "\n",
    "ax.plot(x, y, z1, label=\"x + 2y – z = 1\")\n",
    "ax.plot(x, y, z2, label=\"8x – 5y + 2z = 12\")\n",
    "ax.plot(x, y, z3, label=\"11x +4y – 7z = 15\")\n",
    "\n",
    "ax.plot(x, -7/4+3/4*x, 0, label=\"3x – 4y = 7\")\n",
    "ax.plot(x, 0*x, -7/5 + 2/5*x, label=\"2x – 5z = 7\")\n",
    "\n",
    "\n",
    "ax.scatter3D(1.13919353, -0.90498444, -0.9009803)\n",
    "ax.legend()"
   ]
  },
  {
   "cell_type": "code",
   "execution_count": 62,
   "metadata": {},
   "outputs": [
    {
     "data": {
      "text/plain": [
       "(array([ 1.13919353, -0.90498444, -0.9009803 ]),\n",
       " array([0.71523211]),\n",
       " 3,\n",
       " array([15.2817306 ,  9.59852942,  3.65197794]))"
      ]
     },
     "execution_count": 62,
     "metadata": {},
     "output_type": "execute_result"
    }
   ],
   "source": [
    "A=np.array([[1, 2, -1], [8, -5, 2], [11, 4, -7], [3, -4, 0], [2, 0, -5]])\n",
    "B=np.array([1, 12, 15, 7, 7])\n",
    "np.linalg.lstsq(A, B, rcond=None)"
   ]
  },
  {
   "cell_type": "code",
   "execution_count": 63,
   "metadata": {},
   "outputs": [],
   "source": [
    "#псевдорешение\n",
    "x=1.13919353\n",
    "y=-0.90498444\n",
    "z=-0.9009803"
   ]
  },
  {
   "cell_type": "markdown",
   "metadata": {},
   "source": [
    "### 3. Сколько решений имеет линейная система:\n",
    "[[1,2,3],[4,5,6],[7,8,9]] * X = [[12], [2], [1]]\n",
    "\n"
   ]
  },
  {
   "cell_type": "code",
   "execution_count": 64,
   "metadata": {},
   "outputs": [
    {
     "data": {
      "text/plain": [
       "array([[ 1,  2,  3, 12],\n",
       "       [ 4,  5,  6,  2],\n",
       "       [ 7,  8,  9,  1]])"
      ]
     },
     "execution_count": 64,
     "metadata": {},
     "output_type": "execute_result"
    }
   ],
   "source": [
    "A=np.array([[1,2,3],[4,5,6],[7,8,9]])\n",
    "B = np.array( [[12], [2], [1]])\n",
    "AB=np.concatenate((A,B), axis=1)\n",
    "AB"
   ]
  },
  {
   "cell_type": "code",
   "execution_count": 65,
   "metadata": {},
   "outputs": [
    {
     "name": "stdout",
     "output_type": "stream",
     "text": [
      "2 3\n",
      "Система не имеет ни одного решения\n"
     ]
    }
   ],
   "source": [
    "\n",
    "print(np.linalg.matrix_rank(A),np.linalg.matrix_rank(AB))\n",
    "print('Система не имеет ни одного решения')"
   ]
  },
  {
   "cell_type": "code",
   "execution_count": 66,
   "metadata": {},
   "outputs": [
    {
     "data": {
      "text/plain": [
       "array([[1, 2, 3, 1],\n",
       "       [4, 5, 6, 4],\n",
       "       [7, 8, 9, 7]])"
      ]
     },
     "execution_count": 66,
     "metadata": {},
     "output_type": "execute_result"
    }
   ],
   "source": [
    "B = np.array( [[1], [4], [7]])\n",
    "AB=np.concatenate((A,B), axis=1)\n",
    "AB"
   ]
  },
  {
   "cell_type": "code",
   "execution_count": 67,
   "metadata": {},
   "outputs": [
    {
     "data": {
      "text/plain": [
       "array([[-0.225],\n",
       "       [ 2.45 ],\n",
       "       [-1.225]])"
      ]
     },
     "execution_count": 67,
     "metadata": {},
     "output_type": "execute_result"
    }
   ],
   "source": [
    "#Решение: \n",
    "np.linalg.solve(A, B)"
   ]
  },
  {
   "cell_type": "markdown",
   "metadata": {},
   "source": [
    "### 4. Вычислите LU-разложение матрицы:\n"
   ]
  },
  {
   "cell_type": "code",
   "execution_count": 68,
   "metadata": {},
   "outputs": [
    {
     "name": "stdout",
     "output_type": "stream",
     "text": [
      "[[ 1  2  3]\n",
      " [ 2 16 21]\n",
      " [ 4 28 73]]\n",
      "\n",
      "[[ 1.    0.    0.  ]\n",
      " [ 0.25  1.    0.  ]\n",
      " [ 0.5  -0.4   1.  ]]\n",
      "\n",
      "[[  4.    28.    73.  ]\n",
      " [  0.    -5.   -15.25]\n",
      " [  0.     0.   -21.6 ]]\n"
     ]
    }
   ],
   "source": [
    "import scipy.linalg as linalg \n",
    "A = np.array([[1,2,3], [2, 16, 21], [4, 28, 73]])\n",
    "P,L,U=linalg.lu(A)\n",
    "print(A,L,U, sep=\"\\n\\n\")"
   ]
  },
  {
   "cell_type": "markdown",
   "metadata": {},
   "source": [
    "##### После этого придумайте вектор правых частей и решите полученную линейную систему трех уравнений с данной матрицей.\n"
   ]
  },
  {
   "cell_type": "code",
   "execution_count": 93,
   "metadata": {},
   "outputs": [
    {
     "name": "stdout",
     "output_type": "stream",
     "text": [
      "[[1]\n",
      " [2]\n",
      " [3]]\n",
      "\n",
      "[[3.]\n",
      " [1.]\n",
      " [2.]]\n"
     ]
    }
   ],
   "source": [
    "B = np.array([[1, 2, 3]]).T\n",
    "# P*A=L*U\n",
    "# L*U=B*P1\n",
    "# L*U=B1\n",
    "P1=np.linalg.inv(P)\n",
    "B1=np.dot(P1,B)\n",
    "\n",
    "print(B,B1, sep=\"\\n\\n\")"
   ]
  },
  {
   "cell_type": "code",
   "execution_count": 96,
   "metadata": {},
   "outputs": [
    {
     "name": "stdout",
     "output_type": "stream",
     "text": [
      "[[ 1.01388889]\n",
      " [ 0.03472222]\n",
      " [-0.02777778]]\n",
      "\n",
      "[[ 1.01388889]\n",
      " [ 0.03472222]\n",
      " [-0.02777778]]\n"
     ]
    }
   ],
   "source": [
    "#L*U*X=B1\n",
    "#L*Y=B1\n",
    "Y=np.array([[0.,0.,0.]]).T\n",
    "#B00 = L00*y00 + L01*y10 + L02*y20, где L01=0 и L02=0 => y00=B00/L00\n",
    "Y[0][0]=B1[0][0]/L[0][0]\n",
    "\n",
    "#B10 = L10*y00 + L11*y10 + L12*y20, где L01=0 => y10=(B10 - L10*y00)/L11\n",
    "Y[1][0]=(B1[1][0] - L[1][0]*Y[0][0])/L[1][1]\n",
    "#B20 = L20*y00 + L21*y10 + L22*y20 => \n",
    "Y[2][0]=(B1[2][0] - L[2][0]*Y[0][0] - L[2][1]*Y[1][0])/L[2][2]\n",
    "\n",
    "#U*X=Y\n",
    "X=np.array([[0.,0.,0.]]).T\n",
    "#Y20 = U20*x00 + U21*x10 + U22*x20, где U20=0 и U21=0 => x20=Y20/U22\n",
    "X[2][0]=Y[2][0]/U[2][2]\n",
    "#Y10 = U10*x00 + U11*x10 + U12*x20, где U10=0 => \n",
    "X[1][0]=(Y[1][0] - U[1][2]*X[2][0])/U[1][1]\n",
    "X[0][0]=(Y[0][0] - U[0][2]*X[2][0] - U[0][1]*X[1][0])/U[0][0]\n",
    "\n",
    "print(X, np.linalg.solve(A, B), sep=\"\\n\\n\")"
   ]
  },
  {
   "cell_type": "markdown",
   "metadata": {},
   "source": [
    "### 5. Найдите нормальное псевдорешение недоопределенной системы:\n",
    "\n",
    "x + 2y – z = 1\n",
    "\n",
    "8x – 5y + 2z = 12\n",
    "\n",
    "Для этого определите функцию Q(x,y,z), равную норме решения, и найдите ее минимум. \n"
   ]
  },
  {
   "cell_type": "code",
   "execution_count": 126,
   "metadata": {},
   "outputs": [
    {
     "data": {
      "text/plain": [
       "(array([ 1.38191882, -0.18081181,  0.0202952 ]),\n",
       " array([], dtype=float64),\n",
       " 2,\n",
       " array([9.65316119, 2.41173777]))"
      ]
     },
     "execution_count": 126,
     "metadata": {},
     "output_type": "execute_result"
    },
    {
     "data": {
      "image/png": "[encoded data removed]",
      "text/plain": [
       "<Figure size 432x288 with 1 Axes>"
      ]
     },
     "metadata": {
      "needs_background": "light"
     },
     "output_type": "display_data"
    }
   ],
   "source": [
    "x=np.linspace(-100, 100)\n",
    "y=np.linspace(-100, 100)\n",
    "\n",
    "def Q(x):\n",
    "    y=(10*x - 14)\n",
    "    z=(-1+x+2*y)\n",
    "    return (x**2+y**2+z**2)\n",
    "# x + 2y – z = 1 => z=-1+x+2*y\n",
    "# 8x – 5y + 2z = 12 => 8x – 5y + 2(-1+x+2*y)=12 => 8x - 5y -2 + 2x + 4y = 12 =>  10x - y - 2= 12 => y = 10x - 14\n",
    "plt.plot(x, Q(x))\n",
    "\n",
    "A = np.array([[1, 2, -1], [8, -5, 2]])\n",
    "B = np.array([1, 12]).T\n"
   ]
  },
  {
   "cell_type": "code",
   "execution_count": 127,
   "metadata": {},
   "outputs": [
    {
     "data": {
      "text/plain": [
       "      fun: 1.9428044280442804\n",
       " hess_inv: array([[1]])\n",
       "      jac: array([8.74698162e-06])\n",
       "  message: 'Optimization terminated successfully.'\n",
       "     nfev: 9\n",
       "      nit: 1\n",
       "     njev: 3\n",
       "   status: 0\n",
       "  success: True\n",
       "        x: array([1.38191882])"
      ]
     },
     "execution_count": 127,
     "metadata": {},
     "output_type": "execute_result"
    }
   ],
   "source": [
    "from scipy import optimize\n",
    "optimize.minimize(Q, [1])"
   ]
  },
  {
   "cell_type": "code",
   "execution_count": 131,
   "metadata": {},
   "outputs": [
    {
     "data": {
      "text/plain": [
       "(1.38191882, -0.18081179999999897, 0.020295220000002168)"
      ]
     },
     "execution_count": 131,
     "metadata": {},
     "output_type": "execute_result"
    }
   ],
   "source": [
    "#решение\n",
    "x=1.38191882\n",
    "y=(10*x - 14)\n",
    "z=(-1+x+2*y)\n",
    "x,y,z"
   ]
  },
  {
   "cell_type": "code",
   "execution_count": 129,
   "metadata": {},
   "outputs": [
    {
     "data": {
      "text/plain": [
       "(array([ 1.38191882, -0.18081181,  0.0202952 ]),\n",
       " array([], dtype=float64),\n",
       " 2,\n",
       " array([9.65316119, 2.41173777]))"
      ]
     },
     "execution_count": 129,
     "metadata": {},
     "output_type": "execute_result"
    }
   ],
   "source": [
    "np.linalg.lstsq(A, B, rcond=None)"
   ]
  },
  {
   "cell_type": "markdown",
   "metadata": {},
   "source": [
    "##### Решение совпадает с предложенным linalg.lstsq"
   ]
  },
  {
   "cell_type": "markdown",
   "metadata": {},
   "source": [
    "### 6. Найдите одно из псевдорешений вырожденной системы:\n"
   ]
  },
  {
   "cell_type": "code",
   "execution_count": 132,
   "metadata": {},
   "outputs": [
    {
     "data": {
      "text/plain": [
       "(array([ 1.25,  0.5 , -0.25]),\n",
       " array([], dtype=float64),\n",
       " 2,\n",
       " array([1.68481034e+01, 1.06836951e+00, 3.33475287e-16]))"
      ]
     },
     "execution_count": 132,
     "metadata": {},
     "output_type": "execute_result"
    }
   ],
   "source": [
    "A = np.array([[1,2,3], [4,5,6], [7,8,9]])\n",
    "B = np.array([2,5,11]).T\n",
    "\n",
    "np.linalg.lstsq(A, B, rcond=None)"
   ]
  },
  {
   "cell_type": "markdown",
   "metadata": {},
   "source": [
    "Из лекции: псевдорешение - это вектор, который минимизирует норму невязки. Что в таком случае есть \"нормальное псевдорешение\"?."
   ]
  },
  {
   "cell_type": "code",
   "execution_count": null,
   "metadata": {},
   "outputs": [],
   "source": []
  }
 ],
 "metadata": {
  "kernelspec": {
   "display_name": "Python 3",
   "language": "python",
   "name": "python3"
  },
  "language_info": {
   "codemirror_mode": {
    "name": "ipython",
    "version": 3
   },
   "file_extension": ".py",
   "mimetype": "text/x-python",
   "name": "python",
   "nbconvert_exporter": "python",
   "pygments_lexer": "ipython3",
   "version": "3.7.1"
  }
 },
 "nbformat": 4,
 "nbformat_minor": 2
}
