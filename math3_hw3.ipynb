{
 "cells": [
  {
   "cell_type": "markdown",
   "metadata": {},
   "source": [
    "### Найти производную выражения:\n",
    "\n",
    "1. $(\\sin x * \\cos x)' = \\cos x * \\cos x - \\sin x * \\sin x = \\cos^2 x - \\sin^2 x = -1$\n",
    "2. $(\\ln(2x + 1)^3)' = 2*\\ln(2x + 1)^2 * (\\ln(2x + 1))' = 2*\\ln(2x + 1)^2 * \\frac{1}{2x + 1} * 2 = \\frac{4 \\ln(2x + 1)^2}{2x + 1} $\n",
    "3. $\\sqrt{\\sin^2(\\ln(x^3))} = \\frac{1}{2\\sqrt{\\sin^2(\\ln(x^3))}} * ({\\sin^2(\\ln(x^3))})' = \\frac{1}{2\\sqrt{\\sin^2(\\ln(x^3))}} * 2\\sin(\\ln(x^3)) * (\\ln(x^3))' = \\frac{1}{2\\sqrt{\\sin^2(\\ln(x^3))}} * 2\\sin(\\ln(x^3)) * \\frac{1}{x^3} * (x^3)' = \\frac{1}{2\\sqrt{\\sin^2(\\ln(x^3))}} * 2\\sin(\\ln(x^3)) * \\frac{1}{x^3} * 2x^2 = \\frac{2\\sin(\\ln(x^3)) * 2x^2}{2\\sqrt{\\sin^2(\\ln(x^3))} * x^3} = \\frac{2 \\sin(\\ln(x^3))}{ x\\sqrt{\\sin^2(\\ln(x^3))}} = \\frac{2 \\sin(\\ln(x^3))}{ x\\sin(\\ln(x^3))} = \\frac{2}{x}$\n",
    "\n",
    "4. $\\frac{x^4}{\\ln(x)} =  \n",
    "\\frac{(x^4)' * \\ln(x) - x^4 * (\\ln(x))'}{\\ln(x)^2} = \n",
    "\\frac{4x^3 * \\ln(x) - x^4}{x \\ln(x)^2} = \n",
    "\\frac{x^3 * (4\\ln(x) - x)}{x \\ln(x)^2} =\n",
    "\\frac{x^2 * (4\\ln(x) - x)}{\\ln(x)^2}$"
   ]
  },
  {
   "cell_type": "markdown",
   "metadata": {},
   "source": [
    "### найти выражение производной функции и ее значение в точке.\n",
    "$f(x) = \\cos(x^2 + 3x), x_0 = \\sqrt{\\pi}$\n",
    "\n",
    "$(\\cos(x^2 + 3x))' = \n",
    "- \\sin(x^2 + 3x) * (x^2 + 3x)' = \n",
    "- \\sin(x^2 + 3x) * (2x + 3)$"
   ]
  },
  {
   "cell_type": "code",
   "execution_count": 3,
   "metadata": {},
   "outputs": [
    {
     "data": {
      "text/plain": [
       "-5.383302410890619"
      ]
     },
     "execution_count": 3,
     "metadata": {},
     "output_type": "execute_result"
    }
   ],
   "source": [
    "import numpy as np\n",
    "y = - np.sin(np.pi + 3*np.sqrt(np.pi)) * (2*np.sqrt(np.pi) + 3)\n",
    "y"
   ]
  },
  {
   "cell_type": "markdown",
   "metadata": {},
   "source": [
    "### найти выражение производной функции и ее значение в точке.\n",
    "$f(x)=\\frac{x^3-x^2-x-1}{1+2x+3x^2-4x^3}, x_0=0$"
   ]
  },
  {
   "cell_type": "code",
   "execution_count": null,
   "metadata": {},
   "outputs": [],
   "source": []
  }
 ],
 "metadata": {
  "kernelspec": {
   "display_name": "Python 3",
   "language": "python",
   "name": "python3"
  },
  "language_info": {
   "codemirror_mode": {
    "name": "ipython",
    "version": 3
   },
   "file_extension": ".py",
   "mimetype": "text/x-python",
   "name": "python",
   "nbconvert_exporter": "python",
   "pygments_lexer": "ipython3",
   "version": "3.7.1"
  }
 },
 "nbformat": 4,
 "nbformat_minor": 2
}
