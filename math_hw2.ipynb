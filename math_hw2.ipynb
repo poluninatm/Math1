{
 "cells": [
  {
   "cell_type": "markdown",
   "metadata": {},
   "source": [
    "## 3. Задание (в программе)\n",
    "### 1) Напишите код, который будет переводить полярные координаты в декартовы.\n"
   ]
  },
  {
   "cell_type": "code",
   "execution_count": 1,
   "metadata": {},
   "outputs": [],
   "source": [
    "import numpy as np"
   ]
  },
  {
   "cell_type": "code",
   "execution_count": 2,
   "metadata": {},
   "outputs": [
    {
     "data": {
      "text/plain": [
       "{'x': 1.2246467991473532e-16, 'y': 2.0}"
      ]
     },
     "execution_count": 2,
     "metadata": {},
     "output_type": "execute_result"
    }
   ],
   "source": [
    "def pol2dek(R, alfa):\n",
    "    return {'x':R*np.cos(alfa) , 'y':R*np.sin(alfa)}\n",
    "\n",
    "pol2dek(2, np.pi/2)"
   ]
  },
  {
   "cell_type": "markdown",
   "metadata": {},
   "source": [
    "### 2) Напишите код, который будет рисовать график окружности в полярных координатах."
   ]
  },
  {
   "cell_type": "code",
   "execution_count": 3,
   "metadata": {},
   "outputs": [
    {
     "data": {
      "text/plain": [
       "<Figure size 640x480 with 1 Axes>"
      ]
     },
     "metadata": {},
     "output_type": "display_data"
    }
   ],
   "source": [
    "import matplotlib.pyplot as plt\n",
    "\n",
    "theta = np.arange(0, 2*np.pi, .01)\n",
    "\n",
    "\n",
    "plt.polar(theta,list(map(lambda x : 1, theta)))\n",
    "plt.show()"
   ]
  },
  {
   "cell_type": "markdown",
   "metadata": {},
   "source": [
    "## 4. Задание (в программе)\n",
    "1) Решите систему уравнений:\n",
    "\n",
    "y = x**2 – 1\n",
    "\n",
    "exp(x) + x∙(1 – y) = 1\n"
   ]
  },
  {
   "cell_type": "code",
   "execution_count": 77,
   "metadata": {},
   "outputs": [
    {
     "data": {
      "text/plain": [
       "<matplotlib.collections.PathCollection at 0x101b66dc18>"
      ]
     },
     "execution_count": 77,
     "metadata": {},
     "output_type": "execute_result"
    },
    {
     "data": {
      "image/png": "[encoded data removed]",
      "text/plain": [
       "<Figure size 432x288 with 1 Axes>"
      ]
     },
     "metadata": {
      "needs_background": "light"
     },
     "output_type": "display_data"
    }
   ],
   "source": [
    "x=np.linspace(-10, 20, 200)\n",
    "y=x**2 - 1\n",
    "y2=1 - (1-np.exp(x)) / x\n",
    "\n",
    "plt.ylim(-1, 20)\n",
    "plt.xlim(-5, 8)\n",
    "plt.plot(x, y)\n",
    "plt.plot(x, y2)\n",
    "\n",
    "plt.scatter(2.618145573085386, 5.854686241866443)\n",
    "plt.scatter(-1.581835352893692, 1.5022030836708158)\n",
    "plt.scatter(4.200105840956646, 16.64088907473102)\n"
   ]
  },
  {
   "cell_type": "code",
   "execution_count": 78,
   "metadata": {},
   "outputs": [
    {
     "name": "stdout",
     "output_type": "stream",
     "text": [
      "2.618145573085386 5.854686241866443\n",
      "-1.581835352893692 1.5022030836708158\n",
      "4.200105840956646 16.64088907473102\n"
     ]
    }
   ],
   "source": [
    "from scipy.optimize import fsolve\n",
    "def f(p):\n",
    "    x,y=p\n",
    "    return (y - x**2 + 1, np.exp(x) + x*(1 - y) - 1)\n",
    "\n",
    "x1, y1 =  fsolve(f, (2, 1))\n",
    "print (x1, y1)\n",
    "x2, y2 =  fsolve(f, (-2, 1))\n",
    "print (x2, y2)\n",
    "x2, y2 =  fsolve(f, (4, 1))\n",
    "print (x2, y2)\n",
    "\n"
   ]
  },
  {
   "cell_type": "markdown",
   "metadata": {},
   "source": [
    "### 2) Решите систему уравнений и неравенств:\n",
    "\n",
    "y = x**2 – 1\n",
    "\n",
    "exp(x) + x∙(1 – y) > 1\n"
   ]
  },
  {
   "cell_type": "code",
   "execution_count": 79,
   "metadata": {},
   "outputs": [
    {
     "data": {
      "text/plain": [
       "<matplotlib.collections.PathCollection at 0x101b6df780>"
      ]
     },
     "execution_count": 79,
     "metadata": {},
     "output_type": "execute_result"
    },
    {
     "data": {
      "image/png": "[encoded data removed]",
      "text/plain": [
       "<Figure size 432x288 with 1 Axes>"
      ]
     },
     "metadata": {
      "needs_background": "light"
     },
     "output_type": "display_data"
    }
   ],
   "source": [
    "x=np.linspace(-15, 8, 200)\n",
    "y=x**2 - 1\n",
    "y3 = np.exp(x) + 2*x - x**3\n",
    "\n",
    "\n",
    "plt.ylim(-1.5, 6)\n",
    "plt.xlim(-5, 8)\n",
    "\n",
    "\n",
    "#plt.plot(x, y)\n",
    "#plt.plot(x, y2)\n",
    "plt.plot(x, y3)\n",
    "\n",
    "y4=x*0+1\n",
    "\n",
    "plt.plot(x, y4)\n",
    "\n",
    "plt.scatter(-1.58183535, 1)\n",
    "plt.scatter(0, 1)\n",
    "plt.scatter(2.61814557, 1)\n",
    "plt.scatter(4.20010584, 1)\n"
   ]
  },
  {
   "cell_type": "code",
   "execution_count": 80,
   "metadata": {},
   "outputs": [
    {
     "name": "stdout",
     "output_type": "stream",
     "text": [
      "[-1.58183535]\n",
      "[0.]\n",
      "[2.61814557]\n",
      "[4.20010584]\n"
     ]
    }
   ],
   "source": [
    "def f4(x):\n",
    "    return np.exp(x) + 2*x - x**3 - 1\n",
    "\n",
    "\n",
    "print(fsolve(f4, -2))\n",
    "print(fsolve(f4, 0))\n",
    "print(fsolve(f4, 2))\n",
    "print(fsolve(f4, 4))"
   ]
  },
  {
   "cell_type": "markdown",
   "metadata": {},
   "source": [
    "Система верна при\n",
    "x< -1.58183535, 0 > x < 2.61814557,  x > 4.20010584"
   ]
  },
  {
   "cell_type": "markdown",
   "metadata": {},
   "source": [
    "## Задания к уроку 4\n",
    "### 1. Напишите код, моделирующий выпадение поля в рулетке (с учетом поля зеро)."
   ]
  },
  {
   "cell_type": "code",
   "execution_count": 101,
   "metadata": {},
   "outputs": [
    {
     "data": {
      "text/plain": [
       "(array([ 2.,  6.,  6.,  5.,  8.,  5.,  5.,  5., 12.,  6.,  1.,  9.,  2.,\n",
       "         7.,  6.,  4.,  5.,  2.,  4.,  4.,  3.,  4.,  4.,  4.,  6.,  8.,\n",
       "         6.,  4.,  8.,  5.,  8.,  5.,  3., 10.,  3.,  2.,  3., 10.]),\n",
       " array([ 0.        ,  0.97368421,  1.94736842,  2.92105263,  3.89473684,\n",
       "         4.86842105,  5.84210526,  6.81578947,  7.78947368,  8.76315789,\n",
       "         9.73684211, 10.71052632, 11.68421053, 12.65789474, 13.63157895,\n",
       "        14.60526316, 15.57894737, 16.55263158, 17.52631579, 18.5       ,\n",
       "        19.47368421, 20.44736842, 21.42105263, 22.39473684, 23.36842105,\n",
       "        24.34210526, 25.31578947, 26.28947368, 27.26315789, 28.23684211,\n",
       "        29.21052632, 30.18421053, 31.15789474, 32.13157895, 33.10526316,\n",
       "        34.07894737, 35.05263158, 36.02631579, 37.        ]),\n",
       " <a list of 38 Patch objects>)"
      ]
     },
     "execution_count": 101,
     "metadata": {},
     "output_type": "execute_result"
    },
    {
     "data": {
      "image/png": "[encoded data removed]",
      "text/plain": [
       "<Figure size 432x288 with 1 Axes>"
      ]
     },
     "metadata": {
      "needs_background": "light"
     },
     "output_type": "display_data"
    }
   ],
   "source": [
    "def rul(): \n",
    "    return np.random.randint(0, 38)\n",
    "\n",
    "r=[rul() for _ in range(0, 200)]\n",
    "\n",
    "plt.hist(r, 38)"
   ]
  },
  {
   "cell_type": "markdown",
   "metadata": {},
   "source": [
    "### 2.\n",
    "#### 1) Напишите код, проверяющий любую из теорем сложения или умножения вероятности на примере подбрасывания монетки.\n"
   ]
  },
  {
   "cell_type": "code",
   "execution_count": 184,
   "metadata": {},
   "outputs": [
    {
     "name": "stdout",
     "output_type": "stream",
     "text": [
      "Рассчитанная вероятность выпадения 2 единиц подряд: 0.25, относительное количество выпавших вариантов при 100 повторениях: 0.29\n"
     ]
    }
   ],
   "source": [
    "# Если случайные события А и В независимые, то вероятность совместного появления событий А и В равно \n",
    "# произведению вероятностей этих событий.\n",
    "k, n, abc = 2, 100, 2\n",
    "\n",
    "lists=[np.random.randint(0, 2, n) for _ in range(0, abc)]\n",
    "lists_sum=lists[0]\n",
    "for i in range(1, abc):\n",
    "    lists_sum+=lists[i]\n",
    "\n",
    "#количество испытаний с k выпавшими \"1\"\n",
    "test2=(lists_sum == k).sum()\n",
    "#Вероятность выпадения 2 последовательных 1 равна 0.5*0.5=0.25\n",
    "\n",
    "print(f'Рассчитанная вероятность выпадения 2 единиц подряд: 0.25, относительное количество выпавших вариантов при {n} повторениях: {test2/n}')\n"
   ]
  },
  {
   "cell_type": "markdown",
   "metadata": {},
   "source": [
    "#### 2) Сгенерируйте десять выборок случайных чисел х0, …, х9. и постройте гистограмму распределения случайной суммы х0+х1+ …+ х9."
   ]
  },
  {
   "cell_type": "code",
   "execution_count": 142,
   "metadata": {},
   "outputs": [
    {
     "data": {
      "text/plain": [
       "(array([ 2.,  5.,  8., 17., 30., 30., 20.,  9.,  7.,  2.]),\n",
       " array([20. , 24.9, 29.8, 34.7, 39.6, 44.5, 49.4, 54.3, 59.2, 64.1, 69. ]),\n",
       " <a list of 10 Patch objects>)"
      ]
     },
     "execution_count": 142,
     "metadata": {},
     "output_type": "execute_result"
    },
    {
     "data": {
      "image/png": "[encoded data removed]",
      "text/plain": [
       "<Figure size 432x288 with 1 Axes>"
      ]
     },
     "metadata": {
      "needs_background": "light"
     },
     "output_type": "display_data"
    }
   ],
   "source": [
    "n=130\n",
    "lists=[np.random.randint(0, 10, n) for _ in range(0, 10)]\n",
    "lists_sum=lists[0]\n",
    "for i in range(1, 10):\n",
    "    lists_sum+=lists[i]\n",
    "\n",
    "plt.hist(lists_sum, 10)"
   ]
  },
  {
   "cell_type": "markdown",
   "metadata": {},
   "source": [
    "### 3.\n",
    "1) Дополните код Монте-Карло последовательности независимых испытаний расчетом соответствующих вероятностей (через биномиальное распределение) \n",
    "и сравните результаты."
   ]
  },
  {
   "cell_type": "code",
   "execution_count": 179,
   "metadata": {},
   "outputs": [
    {
     "name": "stdout",
     "output_type": "stream",
     "text": [
      "Рассчитанная вероятность выпадения 2 единиц в 4 попыток: 0.375, относительное количество выпавших вариантов при 100 повторениях: 0.43\n"
     ]
    }
   ],
   "source": [
    "k, n, abc = 2, 100, 4\n",
    "\n",
    "lists=[np.random.randint(0, 2, n) for _ in range(0, abc)]\n",
    "lists_sum=lists[0]\n",
    "for i in range(1, abc):\n",
    "    lists_sum+=lists[i]\n",
    "\n",
    "#количество испытаний с k выпавшими \"1\"\n",
    "test2=(lists_sum == k).sum()\n",
    "C=np.math.factorial(abc)/(np.math.factorial(k) * np.math.factorial(abc-k))\n",
    "P=C*1/(2**abc)\n",
    "print(f'Рассчитанная вероятность выпадения {k} единиц в {abc} попыток: {P}, относительное количество выпавших вариантов при {n} повторениях: {test2/n}')\n"
   ]
  },
  {
   "cell_type": "markdown",
   "metadata": {},
   "source": [
    "#### Повторите расчеты, взяв другие значения n и k."
   ]
  },
  {
   "cell_type": "code",
   "execution_count": 180,
   "metadata": {},
   "outputs": [
    {
     "name": "stdout",
     "output_type": "stream",
     "text": [
      "Рассчитанная вероятность выпадения 3 единиц в 5 попыток: 0.3125, относительное количество выпавших вариантов при 100 повторениях: 0.3\n"
     ]
    }
   ],
   "source": [
    "k, n, abc = 3, 100, 5\n",
    "\n",
    "lists=[np.random.randint(0, 2, n) for _ in range(0, abc)]\n",
    "lists_sum=lists[0]\n",
    "for i in range(1, abc):\n",
    "    lists_sum+=lists[i]\n",
    "\n",
    "#количество испытаний с k выпавшими \"1\"\n",
    "test2=(lists_sum == k).sum()\n",
    "C=np.math.factorial(abc)/(np.math.factorial(k) * np.math.factorial(abc-k))\n",
    "P=C*1/(2**abc)\n",
    "print(f'Рассчитанная вероятность выпадения {k} единиц в {abc} попыток: {P}, относительное количество выпавших вариантов при {n} повторениях: {test2/n}')"
   ]
  },
  {
   "cell_type": "markdown",
   "metadata": {},
   "source": [
    "### 5. Дополните код расчетом коэффициента корреляции x и y по формуле\n"
   ]
  },
  {
   "cell_type": "code",
   "execution_count": 220,
   "metadata": {},
   "outputs": [
    {
     "data": {
      "image/png": "[encoded data removed]",
      "text/plain": [
       "<Figure size 432x288 with 1 Axes>"
      ]
     },
     "metadata": {
      "needs_background": "light"
     },
     "output_type": "display_data"
    }
   ],
   "source": [
    "n = 100\n",
    "r = 0.6\n",
    "x = np.random.rand(n)\n",
    "y = r*x + (1 - r)*np.random.rand(n)\n",
    "plt.plot(x, y, 'o')\n",
    "plt.xlabel('x')\n",
    "plt.ylabel('y')\n",
    "plt.grid(True)\n",
    "\n",
    "plt.plot([0, 1], [b, a + b])\n",
    "plt.show()"
   ]
  },
  {
   "cell_type": "code",
   "execution_count": 221,
   "metadata": {},
   "outputs": [
    {
     "data": {
      "text/plain": [
       "0.8273001401219248"
      ]
     },
     "execution_count": 221,
     "metadata": {},
     "output_type": "execute_result"
    }
   ],
   "source": [
    "xm = x.mean()\n",
    "ym = y.mean()\n",
    "\n",
    "r = sum((x - xm) * (y - ym)) / np.sqrt(sum((x - xm) **2) * sum((y - ym) **2))\n",
    "r"
   ]
  },
  {
   "cell_type": "code",
   "execution_count": null,
   "metadata": {},
   "outputs": [],
   "source": []
  }
 ],
 "metadata": {
  "kernelspec": {
   "display_name": "Python 3",
   "language": "python",
   "name": "python3"
  },
  "language_info": {
   "codemirror_mode": {
    "name": "ipython",
    "version": 3
   },
   "file_extension": ".py",
   "mimetype": "text/x-python",
   "name": "python",
   "nbconvert_exporter": "python",
   "pygments_lexer": "ipython3",
   "version": "3.7.1"
  }
 },
 "nbformat": 4,
 "nbformat_minor": 2
}
