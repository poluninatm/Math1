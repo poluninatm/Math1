{
 "cells": [
  {
   "cell_type": "markdown",
   "metadata": {},
   "source": [
    "### Задание 1\n",
    "- Предложить пример функции,  не имеющей предела в нуле и в бесконечностях\n",
    "    - $sin(x)$"
   ]
  },
  {
   "cell_type": "markdown",
   "metadata": {},
   "source": [
    "### Задание 3\n",
    "#### Исследовать функцию $f(x) = x^3 - x^2$ по плану\n",
    "- Область задания и область значений\n",
    "    $$(-\\infty, +\\infty), (-\\infty, +\\infty)$$\n",
    "- Нули функции и их кратность\n",
    "    x = 1, x = 0, один из корней кратный\n",
    "- Отрезки знакопостоянства\n",
    "    $$(-\\infty, 1), (1, +\\infty)$$\n",
    "- Интервалы монотонности\n",
    "    \n",
    "    Возьмем производную: \n",
    "    $f`(x)=3x^2 - 2x$\n",
    "     Корни производной $x_1=0$, $x_2=2/3$\n",
    "     Функция является возрастающей на $(-\\infty, 0)$ и $(2/3, -\\infty)$, убывающей на $(0, 2/3)$\n",
    "- Четность функции\n",
    "    Ни чётная, ни нечётная функция (функция общего вида)\n",
    "- Ограниченность\n",
    "    Функция не ограничена\n",
    "- Периодичность\n",
    "    Не периодична"
   ]
  },
  {
   "cell_type": "code",
   "execution_count": 30,
   "metadata": {},
   "outputs": [
    {
     "data": {
      "text/plain": [
       "[<matplotlib.lines.Line2D at 0x11781a9e8>]"
      ]
     },
     "execution_count": 30,
     "metadata": {},
     "output_type": "execute_result"
    },
    {
     "data": {
      "image/png": "[encoded data removed]",
      "text/plain": [
       "<Figure size 432x288 with 1 Axes>"
      ]
     },
     "metadata": {
      "needs_background": "light"
     },
     "output_type": "display_data"
    }
   ],
   "source": [
    "import numpy as np\n",
    "x = np.linspace(-100, 100, 300)\n",
    "y = x**3 - x**2\n",
    "import matplotlib.pyplot as plt\n",
    "%matplotlib inline\n",
    "#plt.ylim((-0.5, 0.5))\n",
    "#plt.xlim((-1, 1))\n",
    "plt.plot(x, y)"
   ]
  },
  {
   "cell_type": "markdown",
   "metadata": {},
   "source": [
    "### Задание\n",
    "Найти предел:"
   ]
  },
  {
   "cell_type": "markdown",
   "metadata": {},
   "source": [
    "$\\lim_{x\\to 0}\\frac{3x^3-2x^2}{4x^2}$\n",
    "$\\frac{3x^3-2x^2}{4x^2}  \\Rightarrow \\frac{x^2(3x-2)}{4x^2}  \\Rightarrow \\frac{(3x-2)}{4} $\n",
    "$\\lim_{x\\to 0}\\frac{(3x-2)}{4} = -\\frac{1}{2} $"
   ]
  },
  {
   "cell_type": "markdown",
   "metadata": {},
   "source": [
    "$\\lim_{x\\to 0}\\frac{\\sin(2x)}{4x} \\Rightarrow \\lim_{x\\to 0}\\frac{2\\sin(x)*\\cos(x)}{4x} \\Rightarrow \\lim_{x\\to 0}\\frac{\\sin(x)}{x} * \\lim_{x\\to 0}\\cos(x) * \\lim_{x\\to 0}\\frac{1}{4} \\Rightarrow 1 * 1 * 1/4 = 1/4 $"
   ]
  },
  {
   "cell_type": "markdown",
   "metadata": {},
   "source": [
    "$\\lim_{x\\to 0}\\frac{x}{\\sin(x)} \\Rightarrow \\lim_{x\\to 0}\\frac{x * \\sin(x)}{\\sin(x) * x} = 1$"
   ]
  },
  {
   "cell_type": "code",
   "execution_count": null,
   "metadata": {},
   "outputs": [],
   "source": []
  }
 ],
 "metadata": {
  "kernelspec": {
   "display_name": "Python 3",
   "language": "python",
   "name": "python3"
  },
  "language_info": {
   "codemirror_mode": {
    "name": "ipython",
    "version": 3
   },
   "file_extension": ".py",
   "mimetype": "text/x-python",
   "name": "python",
   "nbconvert_exporter": "python",
   "pygments_lexer": "ipython3",
   "version": "3.7.1"
  }
 },
 "nbformat": 4,
 "nbformat_minor": 2
}
